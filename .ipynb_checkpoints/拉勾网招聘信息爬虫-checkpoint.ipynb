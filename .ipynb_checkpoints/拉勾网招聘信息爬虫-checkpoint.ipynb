{
 "cells": [
  {
   "cell_type": "markdown",
   "metadata": {},
   "source": [
    "# 拉勾网招聘信息爬取"
   ]
  },
  {
   "cell_type": "markdown",
   "metadata": {},
   "source": [
    "### 1、导包"
   ]
  },
  {
   "cell_type": "code",
   "execution_count": 1,
   "metadata": {
    "collapsed": true
   },
   "outputs": [],
   "source": [
    "# -*- coding:utf-8 -*-\n",
    "import re,json\n",
    "from urllib import request\n",
    "import pandas as pd\n",
    "import math"
   ]
  },
  {
   "cell_type": "markdown",
   "metadata": {},
   "source": [
    "### 2、字符串处理函数"
   ]
  },
  {
   "cell_type": "code",
   "execution_count": 2,
   "metadata": {
    "collapsed": true
   },
   "outputs": [],
   "source": [
    "def ProcessingString(string):\n",
    "    string = string.encode('utf-8')\n",
    "    string = str(string).replace(r'\\x','%').replace(r\"'\",\"\")\n",
    "    string = re.sub('^b','',string)\n",
    "    return string"
   ]
  },
  {
   "cell_type": "markdown",
   "metadata": {},
   "source": [
    "### 3、计算搜索内容的数量与页数\n",
    "* 每页默认显示数量为15项\n",
    "* 数据使用Ajax，其json格式经常改动"
   ]
  },
  {
   "cell_type": "code",
   "execution_count": 3,
   "metadata": {
    "collapsed": true
   },
   "outputs": [],
   "source": [
    "def SearchPageCount(position, city):\n",
    "    positionTemp = ProcessingString(position)\n",
    "    cityTemp = ProcessingString(city)\n",
    "    i = 0\n",
    "    url = 'http://www.lagou.com/jobs/positionAjax.json?city='+cityTemp+'&needAddtionalResult=false&first=false'+'&kd='+positionTemp+'&pn='+str(i+1)\n",
    "    with request.urlopen(url) as f:\n",
    "        data = f.read()\n",
    "        totalCount = int(json.loads(str(data,encoding='utf-8',errors='ignore'))[\"content\"]['positionResult'][\"totalCount\"])\n",
    "        count = math.ceil(totalCount/15) # 向下取整\n",
    "        print('本次搜索到%d个职位'%totalCount)\n",
    "        print('本次搜索共%d页'%count)\n",
    "    return count"
   ]
  },
  {
   "cell_type": "markdown",
   "metadata": {},
   "source": [
    "### 4、爬取函数\n",
    "* 抓取内容\n",
    "* 数据存储"
   ]
  },
  {
   "cell_type": "code",
   "execution_count": 12,
   "metadata": {
    "collapsed": false
   },
   "outputs": [],
   "source": [
    "def LaGouSpiderWithKeyWord(position, city):\n",
    "    positionTemp = ProcessingString(position)\n",
    "    cityTemp = ProcessingString(city)\n",
    "    # 获取总共页数\n",
    "    pageCount = SearchPageCount(positionTemp,cityTemp)\n",
    "    n=1\n",
    "    rdata=pd.DataFrame()\n",
    "    # 遍历每一页\n",
    "    for i in range(0,pageCount):           \n",
    "        # url生成，并获取内容\n",
    "        url = 'http://www.lagou.com/jobs/positionAjax.json?city='+cityTemp+'&needAddtionalResult=false&first=false'+'&kd='+positionTemp+'&pn='+str(i+1)\n",
    "        data = request.urlopen(url).read()\n",
    "    \n",
    "        # 读取Json数据/解析并筛选\n",
    "        jsondata = json.loads(str(data,encoding='utf-8',errors='ignore'))['content']['positionResult']['result']\n",
    "        # 遍历当页的所用position职位\n",
    "        for j in range(0,len(jsondata)):\n",
    "            print(str(n)+\" \"+jsondata[j]['positionName']+\" \"\n",
    "                    +jsondata[j]['companyShortName']+\" \"\n",
    "                    +jsondata[j]['salary'])\n",
    "            n = n+1\n",
    "                \n",
    "            #将每一行数据做成Series，之后再合并\n",
    "            if j == 0:\n",
    "                rdata=pd.DataFrame(pd.Series(data=jsondata[j])).T\n",
    "            else:\n",
    "                rdata=pd.concat([rdata,pd.DataFrame(pd.Series(data=jsondata[j])).T])\n",
    "                    \n",
    "        #构造totaldata，是所有页面的集合，rdata是这一个页面的集合\n",
    "        if i == 0:\n",
    "             totaldata=rdata\n",
    "        else:\n",
    "             totaldata=pd.concat([totaldata,rdata])\n",
    "                            \n",
    "                    \n",
    "    #开始写入数据库\n",
    "    totaldata.to_excel('lagou.xls',sheet_name='sheet1')"
   ]
  },
  {
   "cell_type": "markdown",
   "metadata": {},
   "source": [
    "### 4、执行"
   ]
  },
  {
   "cell_type": "markdown",
   "metadata": {},
   "source": [
    "获取\"数据分析\",\"深圳\"所有的招聘信息"
   ]
  },
  {
   "cell_type": "code",
   "execution_count": 13,
   "metadata": {
    "collapsed": false
   },
   "outputs": [
    {
     "name": "stdout",
     "output_type": "stream",
     "text": [
      "本次搜索到163个职位\n",
      "本次搜索共11页\n",
      "1 数据分析工程师-深圳 智互联 12k-20k\n",
      "2 数据分析/挖掘 信美分期 15k-25k\n",
      "3 数据分析 百灵鸟 7k-14k\n",
      "4 数据分析专员 友宝 6k-8k\n",
      "5 数据分析 Klook 客路旅行 10k-20k\n",
      "6 数据分析 房多多 5k-8k\n",
      "7 高级数据分析工程师 OPPO 15k-30k\n",
      "8 数据分析专员 玖富超能 5k-8k\n",
      "9 TEG15-数据分析工程师（深圳） 腾讯 20k-40k\n",
      "10 数据分析工程师 华润置地 15k-30k\n",
      "11 商品调研（数据分析） 环球易购 5k-8k\n",
      "12 渠道数据分析 可米酷 5k-10k\n",
      "13 资深数据分析开发工程师 万兴科技 15k-25k\n",
      "14 安全数据分析专家 华为技术有限公司 50k-100k\n",
      "15 数据分析经理（美国上市公司+高薪诚聘） 乐富购 8k-15k\n",
      "16 商业数据分析 百灵鸟 10k-20k\n",
      "17 数据分析 华为技术有限公司 50k以上\n",
      "18 数据分析建模 我来贷WeLab 15k-25k\n",
      "19 业务管理专员 （数据分析） 银盛金融 5k-10k\n",
      "20 数据分析工程师 顺丰科技有限公司 15k-30k\n",
      "21 数据分析经理 深圳市泰久信息系统股份有限公司 15k-19k\n",
      "22 数据分析专员 Q房网 5k-7k\n",
      "23 客户数据分析 飞贷金融 8k-16k\n",
      "24 商业数据分析 腾跃商务 15k-26k\n",
      "25 风险数据分析 友金所 6k-10k\n",
      "26 BI数据分析专家 小鹿乱撞*坏男孩 12k-22k\n",
      "27 数据分析 中信银行信用卡中心 12k-24k\n",
      "28 数据分析工程师 腾讯 13k-26k\n",
      "29 BI工程师-数据分析开发 雁联计算 10k-15k\n",
      "30 电商产品经理(数据分析） 海豚村 17k-30k\n",
      "31 TEG15-数据分析产品经理(深圳) 腾讯 25k-50k\n",
      "32 数据分析岗（经营分析方向） 友金所 7k-10k\n",
      "33 数据分析工程师 华为技术有限公司 25k-50k\n",
      "34 数据分析 优克联新技术 5k-9k\n",
      "35 数据分析 威仕特 4k-6k\n",
      "36 运营数据分析 飞贷金融 6k-12k\n",
      "37 商业数据分析 柚子科技 4k-6k\n",
      "38 数据分析 中国信通院 1k-2k\n",
      "39 手雷-数据分析工程师 迅雷 13k-25k\n",
      "40 数据分析专员 信用家 6k-9k\n",
      "41 资深数据分析开发工程师 万兴科技 15k-28k\n",
      "42 商业数据分析-经理 Walmart China 20k-30k\n",
      "43 数据分析专员 赫美联合 5k-10k\n",
      "44 数据分析助理 蓝色光标SNK 5k-6k\n",
      "45 产品及业务运营专员（数据分析） 马上金融 8k-15k\n",
      "46 数据分析 腾讯 15k以上\n",
      "47 数据分析（跨境业务） 卷皮 12k-20k\n",
      "48 管理培训生（数据分析方向） 西遇时尚服饰 3k-4k\n",
      "49 商业数据分析 柚子科技 4k-6k\n",
      "50 运营实习生（用户运营/数据分析方向）【广东】 滴滴出行 2k-3k\n",
      "51 大数据顾问（数据挖掘、数据分析） 武汉佰钧成技术有限公司 18k-36k\n",
      "52 棋牌游戏运营专员（数据分析方向） 尚游游戏 6k-12k\n",
      "53 风控数据分析专员 原形金融 7k-14k\n",
      "54 数据分析师 试金石信用 15k-30k\n",
      "55 数据分析师 随手科技 10k-20k\n",
      "56 数据分析工程师（Hadoop、HIVE） 通力互联 8k-15k\n",
      "57 数据分析师 极光 8k-15k\n",
      "58 数据分析师 分期乐 15k-30k\n",
      "59 数据分析师 环球易购 5k-8k\n",
      "60 数据分析师 飞贷金融 8k-13k\n",
      "61 数据分析工程师（深圳） 腾讯 15k-30k\n",
      "62 高级数据分析师 达飞金控 8k-12k\n",
      "63 数据分析师 货拉拉手机打车软件 8k-15k\n",
      "64 数据分析员 一家伟大的互联网金融服务企业 4k-6k\n",
      "65 数据分析师 珍爱网 8k-15k\n",
      "66 数据分析师 极光 3k-6k\n",
      "67 数据分析师 金斧子 7k-14k\n",
      "68 数据分析师 500.com集团 15k-25k\n",
      "69 数据分析师 荷包金融 10k-20k\n",
      "70 数据分析师 vivo 10k-20k\n",
      "71 数据分析师 利民网 12k-15k\n",
      "72 数据分析师（深圳） FORMAX金融圈 15k-25k\n",
      "73 数据分析师(深圳) 平安科技 15k-30k\n",
      "74 数据分析师 云图TV 10k-15k\n",
      "75 数据分析师 信美分期 8k-16k\n",
      "76 商业数据分析 腾讯 15k-30k\n",
      "77 数据分析师 深圳白骑士大数据有限公司 15k-30k\n",
      "78 数据分析师 Gridsum 国双 8k-16k\n",
      "79 数据分析师 iPIN.com 20k-40k\n",
      "80 数据分析师 华海乐盈 8k-12k\n",
      "81 数据分析师 卷皮 10k-15k\n",
      "82 数据分析师（2017毕业生） 500.com集团 6k-12k\n",
      "83 数据分析师 团贷网 10k-20k\n",
      "84 金融数据分析师 小赢理财 10k-20k\n",
      "85 数据分析师（商户金融方向） 分期乐 8k-15k\n",
      "86 数据分析师（资源策略） 珍爱网 8k-15k\n",
      "87 数据分析师 微贷通 8k-10k\n",
      "88 数据分析师实习生 创客家科技 3k-4k\n",
      "89 数据分析师 合众融 10k-15k\n",
      "90 数据分析师 蚁穴数字营销 15k-20k\n",
      "91 HY2-高级数据分析开发工程师（深圳） 腾讯 18k-30k\n",
      "92 数据分析师（2017届校招） iPIN.com 10k-20k\n",
      "93 足球赛事数据分析师 500.com集团 15k-30k\n",
      "94 数据分析师 小牛在线 10k-20k\n",
      "95 数据分析师 一面网络 12k-20k\n",
      "96 数据分析师 广金所 9k-16k\n",
      "97 高级数据分析师 投哪网 9k-18k\n",
      "98 数据分析师（网站） 团贷网 10k-20k\n",
      "99 数据分析师（风险计量） 联金所 8k-14k\n",
      "100 数据分析师 第一网贷 3k-5k\n",
      "101 数据分析师 南京烽火星空 8k-12k\n",
      "102 数据分析师 武汉佰钧成技术有限公司 10k-20k\n",
      "103 数据分析师 百果园 13k-18k\n",
      "104 高级数据分析师/数据挖掘师 索信达 15k-30k\n",
      "105 数据分析师 中国惠普-企业服务事业部 HP-ES 15k-25k\n",
      "106 数据分析师 爱飞扬 3k-5k\n",
      "107 数据分析师 腾讯 15k-30k\n",
      "108 数据分析师 通力互联 6k-9k\n",
      "109 2017应届生招聘【开发、测试、运维、数据分析岗】（金融项目） 东软睿道 6k-7k\n",
      "110 数据分析师 NxEra 8k-16k\n",
      "111 数据分析师 优车库 15k-25k\n",
      "112 数据分析师 迅雷 12k-24k\n",
      "113 高级数据分析师（深圳） 微思敦 15k-25k\n",
      "114 数据分析师 数聚能源科技 10k-20k\n",
      "115 数据分析师 优腹 30k-60k\n",
      "116 高级数据分析师 友钱 15k-25k\n",
      "117 大数据分析师 荷包金融 15k-30k\n",
      "118 数据分析师/数据挖掘工程师 ORVIBO欧瑞博 10k-20k\n",
      "119 数据分析师 俊拓金融 10k-20k\n",
      "120 高级数据分析师 云智数据 10k-20k\n",
      "121 数据分析师 前海融金所 10k-20k\n",
      "122 数据分析师 武汉掌游科技 3K-5K\n",
      "123 数据分析师 海德在线 12k-15k\n",
      "124 高级数据分析师 融贯资讯 12k-20k\n",
      "125 大数据分析师（互联网金融方向） 荷包金融 20k-40k\n",
      "126 数据分析师 嘉实 9k-18k\n",
      "127 数据分析师 深圳梵天 6k-10k\n",
      "128 （大数据）数据分析师 印孚瑟斯 25k-50k\n",
      "129 大数据分析师 增信通 10k-15k\n",
      "130 数据分析师 通力互联 7k-9k\n",
      "131 数据分析师Matlab/SAS/R/Stata 创客家科技 6k-8k\n",
      "132 数据分析师 农产品 10k-20k\n",
      "133 数据分析师 利民网 9k-14k\n",
      "134 大数据分析架构师 云之讯 13k-25k\n",
      "135 21089-英雄联盟高级数据分析师(深圳) 腾讯 15k-30k\n",
      "136 数据分析师 金蝶 10k-20k\n",
      "137 数据分析师 百丽 5k-7k\n",
      "138 大数据分析师 招银前海金融 15k-30k\n",
      "139 金融数据分析师 金工场 8k-15k\n",
      "140 大数据分析师 福亿财富 30k-60k\n",
      "141 数据分析师 酷派集团 10k-20k\n",
      "142 数据分析师 棕榈幸福家社区服务有限公司 20k-35k\n",
      "143 信用风险数据分析师 诚迈 15k-25k\n",
      "144 高级数据分析师 蓝色光标SNK 8k-10k\n",
      "145 大数据分析工程师（互联网金融方向） 荷包金融 18k-35k\n",
      "146 21089-英雄联盟社区高级数据分析师(深圳) 腾讯 15k-30k\n",
      "147 金融数据分析师 鹏元数据技术 8k-13k\n",
      "148 数据专员/数据分析（产品运营） 乾立亨 5k-10k\n",
      "149 数据运营（大数据分析） 随手科技 7k-14k\n",
      "150 数据分析师/数据分析专员 达飞金融 5k-10k\n",
      "151 金融数据分析师（实习生） 金工场 2k-3k\n",
      "152 英雄联盟高级数据分析师(深圳) 腾讯 18k-30k\n",
      "153 HY2-游戏数据分析师（深圳） 腾讯 15k-30k\n",
      "154 大数据分析实习生 招银前海金融 2k-3k\n",
      "155 大数据分析 sxit 30k-60k\n",
      "156 Equity Data Analyst/股票数据分析员 晨星Morningstar 4k-6k\n",
      "157 风控数据分析师 佰仟金融 8k-15k\n",
      "158 Hadoop大数据分析师 创客家科技 7k-10k\n",
      "159 大数据分析工程师 hcode 10k-18k\n",
      "160 Equity Data Analyst/股票数据分析员(韩语 晨星Morningstar 5k-7k\n",
      "161 大数据分析师 金蝶 10k-20k\n",
      "162 金融数据分析师-审计/策划方向 巨灵财经 5k-8k\n",
      "163 大数据分析专家 联易融linklogis 20k-40k\n"
     ]
    }
   ],
   "source": [
    "LaGouSpiderWithKeyWord(u\"数据分析\",u\"深圳\")"
   ]
  },
  {
   "cell_type": "markdown",
   "metadata": {},
   "source": [
    "获取\"数据分析\",\"全国\"招聘数量"
   ]
  },
  {
   "cell_type": "code",
   "execution_count": 15,
   "metadata": {
    "collapsed": false
   },
   "outputs": [
    {
     "name": "stdout",
     "output_type": "stream",
     "text": [
      "本次搜索到1644个职位\n",
      "本次搜索共110页\n"
     ]
    },
    {
     "data": {
      "text/plain": [
       "110"
      ]
     },
     "execution_count": 15,
     "metadata": {},
     "output_type": "execute_result"
    }
   ],
   "source": [
    "SearchPageCount(u\"数据分析\",u\"全国\")"
   ]
  },
  {
   "cell_type": "code",
   "execution_count": null,
   "metadata": {
    "collapsed": true
   },
   "outputs": [],
   "source": []
  },
  {
   "cell_type": "code",
   "execution_count": null,
   "metadata": {
    "collapsed": true
   },
   "outputs": [],
   "source": []
  },
  {
   "cell_type": "markdown",
   "metadata": {},
   "source": [
    "---"
   ]
  },
  {
   "cell_type": "markdown",
   "metadata": {},
   "source": [
    "#### 代码集合，勿动"
   ]
  },
  {
   "cell_type": "markdown",
   "metadata": {
    "collapsed": true
   },
   "source": [
    "import re,json\n",
    "from urllib import request\n",
    "import pandas as pd\n",
    "import math\n",
    "\n",
    "#### 处理字符串的函数\n",
    "def ProcessingString(string):\n",
    "    string = string.encode('utf-8')\n",
    "    string = str(string).replace(r'\\x','%').replace(r\"'\",\"\")\n",
    "    string = re.sub('^b','',string)\n",
    "    return string\n",
    "\n",
    "#### 计算数量，页数\n",
    "def SearchPageCount(position, city):\n",
    "    i = 1\n",
    "    positionTemp = ProcessingString(position)\n",
    "    cityTemp = ProcessingString(city)\n",
    "    url = 'http://www.lagou.com/jobs/positionAjax.json?city='+cityTemp+'&needAddtionalResult=false&first=false'+'&kd='+positionTemp+'&pn='+str(i+1)\n",
    "    with request.urlopen(url) as f:\n",
    "        data = f.read()\n",
    "        totalCount = int(json.loads(str(data,encoding='utf-8',errors='ignore'))[\"content\"]['positionResult'][\"totalCount\"])\n",
    "        count = math.ceil(totalCount/15) # 向下取整\n",
    "        print('本次搜索到%d个职位'%totalCount)\n",
    "        print('本次搜索共%d页'%count)\n",
    "    return count\n",
    "\n",
    "#### 爬取&存储\n",
    "def LaGouSpiderWithKeyWord(position, city):\n",
    "    positionTemp = ProcessingString(position)\n",
    "    cityTemp = ProcessingString(city)\n",
    "    # 获取总共页数\n",
    "    pageCount = SearchPageCount(positionTemp,cityTemp)\n",
    "    n=1\n",
    "    rdata=pd.DataFrame()\n",
    "    # 遍历每一页\n",
    "    for i in range(0,pageCount):           \n",
    "        # url生成，并获取内容\n",
    "        url = 'http://www.lagou.com/jobs/positionAjax.json?city='+cityTemp+'&needAddtionalResult=false&first=false'+'&kd='+positionTemp+'&pn='+str(i+1)\n",
    "        data = request.urlopen(url).read()\n",
    "    \n",
    "        # 读取Json数据/解析并筛选\n",
    "        jsondata = json.loads(str(data,encoding='utf-8',errors='ignore'))['content']['positionResult']['result']\n",
    "        # 遍历当页的所用position职位\n",
    "        for j in range(0,len(jsondata)):\n",
    "            print(str(n)+\" \"+jsondata[j]['positionName']+\" \"\n",
    "                    +jsondata[j]['companyShortName']+\" \"\n",
    "                    +jsondata[j]['salary'])\n",
    "            n = n+1\n",
    "                \n",
    "            #将每一行数据做成Series，之后再合并\n",
    "            if j == 0:\n",
    "                rdata=pd.DataFrame(pd.Series(data=jsondata[j]['position'])).T\n",
    "            else:\n",
    "                rdata=pd.concat([rdata,pd.DataFrame(pd.Series(data=jsondata[j]['position'])).T])\n",
    "                    \n",
    "        #构造totaldata，是所有页面的集合，rdata是这一个页面的集合\n",
    "        if i == 0:\n",
    "             totaldata=rdata\n",
    "        else:\n",
    "             totaldata=pd.concat([totaldata,rdata])\n",
    "                            \n",
    "                    \n",
    "    # 开始写入数据库\n",
    "    totaldata.to_excel('lagou.xls',sheet_name='sheet1')"
   ]
  },
  {
   "cell_type": "markdown",
   "metadata": {},
   "source": [
    "---"
   ]
  }
 ],
 "metadata": {
  "anaconda-cloud": {},
  "kernelspec": {
   "display_name": "Python [Root]",
   "language": "python",
   "name": "Python [Root]"
  },
  "language_info": {
   "codemirror_mode": {
    "name": "ipython",
    "version": 3
   },
   "file_extension": ".py",
   "mimetype": "text/x-python",
   "name": "python",
   "nbconvert_exporter": "python",
   "pygments_lexer": "ipython3",
   "version": "3.5.2"
  }
 },
 "nbformat": 4,
 "nbformat_minor": 0
}
