{
 "cells": [
  {
   "cell_type": "markdown",
   "metadata": {},
   "source": [
    "# 招聘信息分析"
   ]
  },
  {
   "cell_type": "code",
   "execution_count": 103,
   "metadata": {
    "collapsed": true
   },
   "outputs": [],
   "source": [
    "import numpy as np\n",
    "import pandas as pd\n",
    "import matplotlib.pyplot as plt\n",
    "%matplotlib inline\n",
    "plt.rcParams['font.sans-serif'] = ['Microsoft YaHei'] #用来正常显示中文标签\n",
    "plt.rcParams['axes.unicode_minus'] = False #用来正常显示负号"
   ]
  },
  {
   "cell_type": "markdown",
   "metadata": {},
   "source": [
    "## 数据刷选、清洗&转换"
   ]
  },
  {
   "cell_type": "code",
   "execution_count": 10,
   "metadata": {
    "collapsed": true
   },
   "outputs": [],
   "source": [
    "# 导入数据源\n",
    "df = pd.read_excel(u\"数据分析_全国_11-15.xls\")\n",
    "# 刷选特征\n",
    "df_new = df.loc[:,['createTime','formatCreateTime',\n",
    "        'positionId','positionName','jobNature','companyShortName','city',\n",
    "        'positionLables','salary','workYear','firstType','secondType','education',\n",
    "        'companyId','companyFullName','companySize','financeStage','industryField'\n",
    "         ]]\n",
    "# 更新index\n",
    "df_new=df_new.set_index(['createTime']).reset_index()"
   ]
  },
  {
   "cell_type": "code",
   "execution_count": 230,
   "metadata": {
    "collapsed": false
   },
   "outputs": [
    {
     "data": {
      "text/plain": [
       "(1646, 21)"
      ]
     },
     "execution_count": 230,
     "metadata": {},
     "output_type": "execute_result"
    }
   ],
   "source": [
    "df_new.shape"
   ]
  },
  {
   "cell_type": "code",
   "execution_count": 132,
   "metadata": {
    "collapsed": true
   },
   "outputs": [],
   "source": [
    "df_new['city'] = df_new['city'].map(lambda s:s.replace(u\"市\",\"\"))"
   ]
  },
  {
   "cell_type": "markdown",
   "metadata": {},
   "source": [
    "工资特征"
   ]
  },
  {
   "cell_type": "code",
   "execution_count": 11,
   "metadata": {
    "collapsed": true
   },
   "outputs": [],
   "source": [
    "def tsalary(s):\n",
    "    s = s.split(\"-\")[0]\n",
    "    s = s.replace('k','')\n",
    "    s = s.replace('K','')\n",
    "    s = s.replace(u'以上','')\n",
    "    s = s.replace(u'以下','')\n",
    "    return int(s)\n",
    "df_new.loc[:,'salary_true']=df_new['salary'].map(tsalary)"
   ]
  },
  {
   "cell_type": "markdown",
   "metadata": {},
   "source": [
    "发布时间特征"
   ]
  },
  {
   "cell_type": "code",
   "execution_count": 12,
   "metadata": {
    "collapsed": true
   },
   "outputs": [],
   "source": [
    "df_new.loc[:,'Year']=df_new['createTime'].map(lambda s : s.split(\"-\")[0] )\n",
    "df_new.loc[:,'Month']=df_new['createTime'].map(lambda s : s.split(\"-\")[1] )"
   ]
  },
  {
   "cell_type": "code",
   "execution_count": 13,
   "metadata": {
    "collapsed": false
   },
   "outputs": [
    {
     "data": {
      "text/html": [
       "<div>\n",
       "<table border=\"1\" class=\"dataframe\">\n",
       "  <thead>\n",
       "    <tr style=\"text-align: right;\">\n",
       "      <th></th>\n",
       "      <th>createTime</th>\n",
       "      <th>formatCreateTime</th>\n",
       "      <th>positionId</th>\n",
       "      <th>positionName</th>\n",
       "      <th>jobNature</th>\n",
       "      <th>companyShortName</th>\n",
       "      <th>city</th>\n",
       "      <th>positionLables</th>\n",
       "      <th>salary</th>\n",
       "      <th>workYear</th>\n",
       "      <th>...</th>\n",
       "      <th>secondType</th>\n",
       "      <th>education</th>\n",
       "      <th>companyId</th>\n",
       "      <th>companyFullName</th>\n",
       "      <th>companySize</th>\n",
       "      <th>financeStage</th>\n",
       "      <th>industryField</th>\n",
       "      <th>salary_true</th>\n",
       "      <th>Year</th>\n",
       "      <th>Month</th>\n",
       "    </tr>\n",
       "  </thead>\n",
       "  <tbody>\n",
       "    <tr>\n",
       "      <th>0</th>\n",
       "      <td>2016-11-14 15:00:10</td>\n",
       "      <td>15:00发布</td>\n",
       "      <td>2574369</td>\n",
       "      <td>数据分析</td>\n",
       "      <td>全职</td>\n",
       "      <td>拼多多</td>\n",
       "      <td>上海</td>\n",
       "      <td>['数据分析', '数据']</td>\n",
       "      <td>15k-30k</td>\n",
       "      <td>3-5年</td>\n",
       "      <td>...</td>\n",
       "      <td>数据开发</td>\n",
       "      <td>本科</td>\n",
       "      <td>107784</td>\n",
       "      <td>杭州微米网络科技有限公司</td>\n",
       "      <td>150-500人</td>\n",
       "      <td>成长型(B轮)</td>\n",
       "      <td>电子商务,移动互联网</td>\n",
       "      <td>15</td>\n",
       "      <td>2016</td>\n",
       "      <td>11</td>\n",
       "    </tr>\n",
       "    <tr>\n",
       "      <th>1</th>\n",
       "      <td>2016-11-10 10:27:08</td>\n",
       "      <td>2016-11-10</td>\n",
       "      <td>1581069</td>\n",
       "      <td>数据分析工程师-深圳</td>\n",
       "      <td>全职</td>\n",
       "      <td>智互联</td>\n",
       "      <td>深圳</td>\n",
       "      <td>['数据分析', '数据']</td>\n",
       "      <td>12k-20k</td>\n",
       "      <td>3-5年</td>\n",
       "      <td>...</td>\n",
       "      <td>后端开发</td>\n",
       "      <td>本科</td>\n",
       "      <td>106483</td>\n",
       "      <td>智互联（深圳）科技有限公司</td>\n",
       "      <td>50-150人</td>\n",
       "      <td>成长型(不需要融资)</td>\n",
       "      <td>电子商务</td>\n",
       "      <td>12</td>\n",
       "      <td>2016</td>\n",
       "      <td>11</td>\n",
       "    </tr>\n",
       "    <tr>\n",
       "      <th>2</th>\n",
       "      <td>2016-11-14 18:38:55</td>\n",
       "      <td>18:38发布</td>\n",
       "      <td>2576049</td>\n",
       "      <td>数据分析专员</td>\n",
       "      <td>全职</td>\n",
       "      <td>Putao</td>\n",
       "      <td>上海</td>\n",
       "      <td>['数据', '数据分析']</td>\n",
       "      <td>13k-26k</td>\n",
       "      <td>不限</td>\n",
       "      <td>...</td>\n",
       "      <td>运营</td>\n",
       "      <td>不限</td>\n",
       "      <td>82229</td>\n",
       "      <td>上海葡萄纬度科技有限公司</td>\n",
       "      <td>500-2000人</td>\n",
       "      <td>初创型(未融资)</td>\n",
       "      <td>移动互联网</td>\n",
       "      <td>13</td>\n",
       "      <td>2016</td>\n",
       "      <td>11</td>\n",
       "    </tr>\n",
       "    <tr>\n",
       "      <th>3</th>\n",
       "      <td>2016-11-14 23:10:37</td>\n",
       "      <td>23:10发布</td>\n",
       "      <td>2576426</td>\n",
       "      <td>数据分析</td>\n",
       "      <td>全职</td>\n",
       "      <td>乂学</td>\n",
       "      <td>上海</td>\n",
       "      <td>['数据分析', '数据']</td>\n",
       "      <td>5k-8k</td>\n",
       "      <td>1-3年</td>\n",
       "      <td>...</td>\n",
       "      <td>数据分析</td>\n",
       "      <td>本科</td>\n",
       "      <td>64597</td>\n",
       "      <td>上海乂学教育科技有限公司</td>\n",
       "      <td>50-150人</td>\n",
       "      <td>成长型(A轮)</td>\n",
       "      <td>移动互联网,教育</td>\n",
       "      <td>5</td>\n",
       "      <td>2016</td>\n",
       "      <td>11</td>\n",
       "    </tr>\n",
       "    <tr>\n",
       "      <th>4</th>\n",
       "      <td>2016-11-15 09:26:39</td>\n",
       "      <td>09:26发布</td>\n",
       "      <td>2547759</td>\n",
       "      <td>数据分析工程师</td>\n",
       "      <td>全职</td>\n",
       "      <td>美团点评</td>\n",
       "      <td>上海</td>\n",
       "      <td>['数据分析', '数据挖掘', '数据']</td>\n",
       "      <td>20k-25k</td>\n",
       "      <td>3-5年</td>\n",
       "      <td>...</td>\n",
       "      <td>数据开发</td>\n",
       "      <td>本科</td>\n",
       "      <td>50702</td>\n",
       "      <td>北京三快在线科技有限公司</td>\n",
       "      <td>2000人以上</td>\n",
       "      <td>成熟型(D轮及以上)</td>\n",
       "      <td>移动互联网,O2O</td>\n",
       "      <td>20</td>\n",
       "      <td>2016</td>\n",
       "      <td>11</td>\n",
       "    </tr>\n",
       "  </tbody>\n",
       "</table>\n",
       "<p>5 rows × 21 columns</p>\n",
       "</div>"
      ],
      "text/plain": [
       "            createTime formatCreateTime  positionId positionName jobNature  \\\n",
       "0  2016-11-14 15:00:10          15:00发布     2574369         数据分析        全职   \n",
       "1  2016-11-10 10:27:08       2016-11-10     1581069   数据分析工程师-深圳        全职   \n",
       "2  2016-11-14 18:38:55          18:38发布     2576049       数据分析专员        全职   \n",
       "3  2016-11-14 23:10:37          23:10发布     2576426         数据分析        全职   \n",
       "4  2016-11-15 09:26:39          09:26发布     2547759      数据分析工程师        全职   \n",
       "\n",
       "  companyShortName city          positionLables   salary workYear  ...   \\\n",
       "0              拼多多   上海          ['数据分析', '数据']  15k-30k     3-5年  ...    \n",
       "1              智互联   深圳          ['数据分析', '数据']  12k-20k     3-5年  ...    \n",
       "2            Putao   上海          ['数据', '数据分析']  13k-26k       不限  ...    \n",
       "3               乂学   上海          ['数据分析', '数据']    5k-8k     1-3年  ...    \n",
       "4             美团点评   上海  ['数据分析', '数据挖掘', '数据']  20k-25k     3-5年  ...    \n",
       "\n",
       "  secondType education companyId  companyFullName companySize financeStage  \\\n",
       "0       数据开发        本科    107784     杭州微米网络科技有限公司    150-500人      成长型(B轮)   \n",
       "1       后端开发        本科    106483    智互联（深圳）科技有限公司     50-150人   成长型(不需要融资)   \n",
       "2         运营        不限     82229     上海葡萄纬度科技有限公司   500-2000人     初创型(未融资)   \n",
       "3       数据分析        本科     64597     上海乂学教育科技有限公司     50-150人      成长型(A轮)   \n",
       "4       数据开发        本科     50702     北京三快在线科技有限公司     2000人以上   成熟型(D轮及以上)   \n",
       "\n",
       "  industryField salary_true  Year Month  \n",
       "0    电子商务,移动互联网          15  2016    11  \n",
       "1          电子商务          12  2016    11  \n",
       "2         移动互联网          13  2016    11  \n",
       "3      移动互联网,教育           5  2016    11  \n",
       "4     移动互联网,O2O          20  2016    11  \n",
       "\n",
       "[5 rows x 21 columns]"
      ]
     },
     "execution_count": 13,
     "metadata": {},
     "output_type": "execute_result"
    }
   ],
   "source": [
    "df_new.head()"
   ]
  },
  {
   "cell_type": "code",
   "execution_count": 181,
   "metadata": {
    "collapsed": true
   },
   "outputs": [],
   "source": [
    "df_new.to_excel(\"temp.xls\")"
   ]
  },
  {
   "cell_type": "markdown",
   "metadata": {},
   "source": [
    "## 异常值处理\n",
    "工资的异常值需要从多个角度考虑，学历、经验等要求不同，分布也不同，不能单单只从总体考虑\n",
    "\n",
    "以工作经验为筛选异常值，3倍标准差原理"
   ]
  },
  {
   "cell_type": "code",
   "execution_count": 239,
   "metadata": {
    "collapsed": false
   },
   "outputs": [
    {
     "data": {
      "image/png": "[encoded data removed]",
      "text/plain": [
       "<matplotlib.figure.Figure at 0x6f27a3d898>"
      ]
     },
     "metadata": {},
     "output_type": "display_data"
    }
   ],
   "source": [
    "plt.figure(figsize=(16,10))\n",
    "plt.subplot(2,4,1) # 子区间的序号从1开始\n",
    "plt.boxplot(df_new[df_new['workYear']==u\"应届毕业生\"]['salary_true'].values)\n",
    "plt.subplot(2,4,2)\n",
    "plt.boxplot(df_new[df_new['workYear']==u\"1年以下\"]['salary_true'].values)\n",
    "plt.subplot(2,4,3)\n",
    "plt.boxplot(df_new[df_new['workYear']==u\"1-3年\"]['salary_true'].values)\n",
    "plt.subplot(2,4,4)\n",
    "plt.boxplot(df_new[df_new['workYear']==u\"3-5年\"]['salary_true'].values)\n",
    "plt.subplot(2,4,5)\n",
    "plt.boxplot(df_new[df_new['workYear']==u\"5-10年\"]['salary_true'].values)\n",
    "plt.subplot(2,4,6)\n",
    "plt.boxplot(df_new[df_new['workYear']==u\"10年以上\"]['salary_true'].values)\n",
    "plt.subplot(2,4,7)\n",
    "plt.boxplot(df_new[df_new['workYear']==u\"不限\"]['salary_true'].values)\n",
    "plt.show()"
   ]
  },
  {
   "cell_type": "code",
   "execution_count": 240,
   "metadata": {
    "collapsed": false
   },
   "outputs": [
    {
     "name": "stderr",
     "output_type": "stream",
     "text": [
      "C:\\Anaconda3\\lib\\site-packages\\ipykernel\\__main__.py:1: UserWarning: Boolean Series key will be reindexed to match DataFrame index.\n",
      "  if __name__ == '__main__':\n",
      "C:\\Anaconda3\\lib\\site-packages\\ipykernel\\__main__.py:2: UserWarning: Boolean Series key will be reindexed to match DataFrame index.\n",
      "  from ipykernel import kernelapp as app\n",
      "C:\\Anaconda3\\lib\\site-packages\\ipykernel\\__main__.py:3: UserWarning: Boolean Series key will be reindexed to match DataFrame index.\n",
      "  app.launch_new_instance()\n",
      "C:\\Anaconda3\\lib\\site-packages\\ipykernel\\__main__.py:4: UserWarning: Boolean Series key will be reindexed to match DataFrame index.\n",
      "C:\\Anaconda3\\lib\\site-packages\\ipykernel\\__main__.py:5: UserWarning: Boolean Series key will be reindexed to match DataFrame index.\n"
     ]
    }
   ],
   "source": [
    "df_new=df_new.drop(df_new.loc[df_new['workYear']==u'应届毕业生'][df_new['salary_true']>10].index)\n",
    "df_new=df_new.drop(df_new.loc[df_new['workYear']==u'1-3年'][df_new['salary_true']>17].index)\n",
    "df_new=df_new.drop(df_new.loc[df_new['workYear']==u'3-5年'][df_new['salary_true']>23].index)\n",
    "df_new=df_new.drop(df_new.loc[df_new['workYear']==u'5-10年'][df_new['salary_true']>30].index)\n",
    "df_new=df_new.drop(df_new.loc[df_new['workYear']==u'不限'][df_new['salary_true']>20].index)"
   ]
  },
  {
   "cell_type": "code",
   "execution_count": 241,
   "metadata": {
    "collapsed": false
   },
   "outputs": [
    {
     "data": {
      "text/plain": [
       "(1601, 21)"
      ]
     },
     "execution_count": 241,
     "metadata": {},
     "output_type": "execute_result"
    }
   ],
   "source": [
    "df_new.shape"
   ]
  },
  {
   "cell_type": "markdown",
   "metadata": {},
   "source": [
    "## 数据探索\n",
    "以工资（月薪/K）为主"
   ]
  },
  {
   "cell_type": "code",
   "execution_count": 243,
   "metadata": {
    "collapsed": false
   },
   "outputs": [
    {
     "name": "stdout",
     "output_type": "stream",
     "text": [
      "count    1601.000000\n",
      "mean       10.236727\n",
      "std         5.341189\n",
      "min         1.000000\n",
      "25%         6.000000\n",
      "50%        10.000000\n",
      "75%        15.000000\n",
      "max        50.000000\n",
      "range      49.000000\n",
      "var         0.521767\n",
      "dis         9.000000\n",
      "Name: salary_true, dtype: float64\n"
     ]
    }
   ],
   "source": [
    "# 静态描述\n",
    "statistics = df_new['salary_true'].describe() #保存基本统计量\n",
    "\n",
    "statistics.loc['range'] = statistics.loc['max']-statistics.loc['min'] #极差\n",
    "statistics.loc['var'] = statistics.loc['std']/statistics.loc['mean'] #变异系数\n",
    "statistics.loc['dis'] = statistics.loc['75%']-statistics.loc['25%'] #四分位数间距\n",
    "\n",
    "print(statistics)"
   ]
  },
  {
   "cell_type": "code",
   "execution_count": 247,
   "metadata": {
    "collapsed": false
   },
   "outputs": [
    {
     "data": {
      "text/plain": [
       "(array([ 291.,  759.,  395.,  124.,   19.,   12.,    0.,    0.,    0.,    1.]),\n",
       " array([  1. ,   5.9,  10.8,  15.7,  20.6,  25.5,  30.4,  35.3,  40.2,\n",
       "         45.1,  50. ]),\n",
       " <a list of 10 Patch objects>)"
      ]
     },
     "execution_count": 247,
     "metadata": {},
     "output_type": "execute_result"
    },
    {
     "data": {
      "image/png": "[encoded data removed]",
      "text/plain": [
       "<matplotlib.figure.Figure at 0x6f287d0a58>"
      ]
     },
     "metadata": {},
     "output_type": "display_data"
    }
   ],
   "source": [
    "plt.hist(df_new['salary_true'],bins=10, histtype='bar')"
   ]
  },
  {
   "cell_type": "code",
   "execution_count": 246,
   "metadata": {
    "collapsed": false
   },
   "outputs": [
    {
     "data": {
      "text/plain": [
       "<matplotlib.axes._subplots.AxesSubplot at 0x6f28012908>"
      ]
     },
     "execution_count": 246,
     "metadata": {},
     "output_type": "execute_result"
    },
    {
     "data": {
      "image/png": "[encoded data removed]",
      "text/plain": [
       "<matplotlib.figure.Figure at 0x6f27707f60>"
      ]
     },
     "metadata": {},
     "output_type": "display_data"
    }
   ],
   "source": [
    "df_new['salary_true'].hist(bins=[0,5,10,15,20,25,30,35,40,45,50])"
   ]
  },
  {
   "cell_type": "markdown",
   "metadata": {},
   "source": [
    "## 城市对招聘的影响（数量&工资）"
   ]
  },
  {
   "cell_type": "code",
   "execution_count": 249,
   "metadata": {
    "collapsed": false,
    "scrolled": true
   },
   "outputs": [],
   "source": [
    "city_job_num = pd.pivot_table(df_new,index=['city'],values=['salary_true'],aggfunc=len).sort_values(by=\"salary_true\",ascending=False)"
   ]
  },
  {
   "cell_type": "code",
   "execution_count": 250,
   "metadata": {
    "collapsed": false,
    "scrolled": false
   },
   "outputs": [
    {
     "data": {
      "image/png": "[encoded data removed]",
      "text/plain": [
       "<matplotlib.figure.Figure at 0x6f2781e128>"
      ]
     },
     "metadata": {},
     "output_type": "display_data"
    }
   ],
   "source": [
    "# 帕累托图\n",
    "temp_series = city_job_num[u'salary_true'].copy()\n",
    "temp_series.sort_values(ascending = False)\n",
    "\n",
    "# 设置好图像大小\n",
    "plt.figure(figsize=(10,6))\n",
    "dish_profit_new.plot(kind='bar')\n",
    "\n",
    "plt.ylabel(u'Englist')\n",
    "p = 1.0*temp_series.cumsum()/temp_series.sum()\n",
    "p.plot(color = 'g', secondary_y = True, style = '-o',linewidth = 2)\n",
    "\n",
    "# 添加注释，第五个点的标记。这里包括了指定箭头样式。\n",
    "plt.annotate(format(p[4], '.4%'), xy = (4, p[4]), xytext=(4*0.9, p[4]*0.9), arrowprops=dict(arrowstyle=\"->\", connectionstyle=\"arc3,rad=.2\")) \n",
    "plt.ylabel(u'中文')\n",
    "\n",
    "plt.show()"
   ]
  },
  {
   "cell_type": "markdown",
   "metadata": {},
   "source": [
    "筛选出招聘数量超过100的城市"
   ]
  },
  {
   "cell_type": "code",
   "execution_count": 251,
   "metadata": {
    "collapsed": false
   },
   "outputs": [
    {
     "data": {
      "text/plain": [
       "array(['上海', '深圳', '北京', '杭州', '广州'], dtype=object)"
      ]
     },
     "execution_count": 251,
     "metadata": {},
     "output_type": "execute_result"
    }
   ],
   "source": [
    "g = df_new.groupby('city')\n",
    "con1 = lambda s : len(s) > 100\n",
    "g2 = g.filter(con1)\n",
    "g2['city'].unique()"
   ]
  },
  {
   "cell_type": "code",
   "execution_count": 272,
   "metadata": {
    "collapsed": false
   },
   "outputs": [
    {
     "data": {
      "text/html": [
       "<div>\n",
       "<table border=\"1\" class=\"dataframe\">\n",
       "  <thead>\n",
       "    <tr>\n",
       "      <th></th>\n",
       "      <th colspan=\"7\" halign=\"left\">salary_true</th>\n",
       "    </tr>\n",
       "    <tr>\n",
       "      <th>workYear</th>\n",
       "      <th>1-3年</th>\n",
       "      <th>10年以上</th>\n",
       "      <th>1年以下</th>\n",
       "      <th>3-5年</th>\n",
       "      <th>5-10年</th>\n",
       "      <th>不限</th>\n",
       "      <th>应届毕业生</th>\n",
       "    </tr>\n",
       "    <tr>\n",
       "      <th>city</th>\n",
       "      <th></th>\n",
       "      <th></th>\n",
       "      <th></th>\n",
       "      <th></th>\n",
       "      <th></th>\n",
       "      <th></th>\n",
       "      <th></th>\n",
       "    </tr>\n",
       "  </thead>\n",
       "  <tbody>\n",
       "    <tr>\n",
       "      <th>上海</th>\n",
       "      <td>108.0</td>\n",
       "      <td>NaN</td>\n",
       "      <td>4.0</td>\n",
       "      <td>99.0</td>\n",
       "      <td>28.0</td>\n",
       "      <td>42.0</td>\n",
       "      <td>11.0</td>\n",
       "    </tr>\n",
       "    <tr>\n",
       "      <th>北京</th>\n",
       "      <td>259.0</td>\n",
       "      <td>2.0</td>\n",
       "      <td>14.0</td>\n",
       "      <td>253.0</td>\n",
       "      <td>65.0</td>\n",
       "      <td>101.0</td>\n",
       "      <td>22.0</td>\n",
       "    </tr>\n",
       "    <tr>\n",
       "      <th>广州</th>\n",
       "      <td>54.0</td>\n",
       "      <td>NaN</td>\n",
       "      <td>NaN</td>\n",
       "      <td>36.0</td>\n",
       "      <td>9.0</td>\n",
       "      <td>23.0</td>\n",
       "      <td>4.0</td>\n",
       "    </tr>\n",
       "    <tr>\n",
       "      <th>杭州</th>\n",
       "      <td>62.0</td>\n",
       "      <td>NaN</td>\n",
       "      <td>NaN</td>\n",
       "      <td>52.0</td>\n",
       "      <td>6.0</td>\n",
       "      <td>10.0</td>\n",
       "      <td>3.0</td>\n",
       "    </tr>\n",
       "    <tr>\n",
       "      <th>深圳</th>\n",
       "      <td>61.0</td>\n",
       "      <td>1.0</td>\n",
       "      <td>NaN</td>\n",
       "      <td>55.0</td>\n",
       "      <td>9.0</td>\n",
       "      <td>25.0</td>\n",
       "      <td>7.0</td>\n",
       "    </tr>\n",
       "  </tbody>\n",
       "</table>\n",
       "</div>"
      ],
      "text/plain": [
       "         salary_true                                      \n",
       "workYear        1-3年 10年以上  1年以下   3-5年 5-10年     不限 应届毕业生\n",
       "city                                                      \n",
       "上海             108.0   NaN   4.0   99.0  28.0   42.0  11.0\n",
       "北京             259.0   2.0  14.0  253.0  65.0  101.0  22.0\n",
       "广州              54.0   NaN   NaN   36.0   9.0   23.0   4.0\n",
       "杭州              62.0   NaN   NaN   52.0   6.0   10.0   3.0\n",
       "深圳              61.0   1.0   NaN   55.0   9.0   25.0   7.0"
      ]
     },
     "execution_count": 272,
     "metadata": {},
     "output_type": "execute_result"
    }
   ],
   "source": [
    "pd.pivot_table(g2,index=['city'],columns=['workYear'],values=['salary_true'],aggfunc=len)"
   ]
  },
  {
   "cell_type": "code",
   "execution_count": 273,
   "metadata": {
    "collapsed": false
   },
   "outputs": [
    {
     "data": {
      "text/html": [
       "<div>\n",
       "<table border=\"1\" class=\"dataframe\">\n",
       "  <thead>\n",
       "    <tr>\n",
       "      <th></th>\n",
       "      <th colspan=\"5\" halign=\"left\">salary_true</th>\n",
       "    </tr>\n",
       "    <tr>\n",
       "      <th>city</th>\n",
       "      <th>上海</th>\n",
       "      <th>北京</th>\n",
       "      <th>广州</th>\n",
       "      <th>杭州</th>\n",
       "      <th>深圳</th>\n",
       "    </tr>\n",
       "    <tr>\n",
       "      <th>workYear</th>\n",
       "      <th></th>\n",
       "      <th></th>\n",
       "      <th></th>\n",
       "      <th></th>\n",
       "      <th></th>\n",
       "    </tr>\n",
       "  </thead>\n",
       "  <tbody>\n",
       "    <tr>\n",
       "      <th>1-3年</th>\n",
       "      <td>108.0</td>\n",
       "      <td>259.0</td>\n",
       "      <td>54.0</td>\n",
       "      <td>62.0</td>\n",
       "      <td>61.0</td>\n",
       "    </tr>\n",
       "    <tr>\n",
       "      <th>10年以上</th>\n",
       "      <td>NaN</td>\n",
       "      <td>2.0</td>\n",
       "      <td>NaN</td>\n",
       "      <td>NaN</td>\n",
       "      <td>1.0</td>\n",
       "    </tr>\n",
       "    <tr>\n",
       "      <th>1年以下</th>\n",
       "      <td>4.0</td>\n",
       "      <td>14.0</td>\n",
       "      <td>NaN</td>\n",
       "      <td>NaN</td>\n",
       "      <td>NaN</td>\n",
       "    </tr>\n",
       "    <tr>\n",
       "      <th>3-5年</th>\n",
       "      <td>99.0</td>\n",
       "      <td>253.0</td>\n",
       "      <td>36.0</td>\n",
       "      <td>52.0</td>\n",
       "      <td>55.0</td>\n",
       "    </tr>\n",
       "    <tr>\n",
       "      <th>5-10年</th>\n",
       "      <td>28.0</td>\n",
       "      <td>65.0</td>\n",
       "      <td>9.0</td>\n",
       "      <td>6.0</td>\n",
       "      <td>9.0</td>\n",
       "    </tr>\n",
       "    <tr>\n",
       "      <th>不限</th>\n",
       "      <td>42.0</td>\n",
       "      <td>101.0</td>\n",
       "      <td>23.0</td>\n",
       "      <td>10.0</td>\n",
       "      <td>25.0</td>\n",
       "    </tr>\n",
       "    <tr>\n",
       "      <th>应届毕业生</th>\n",
       "      <td>11.0</td>\n",
       "      <td>22.0</td>\n",
       "      <td>4.0</td>\n",
       "      <td>3.0</td>\n",
       "      <td>7.0</td>\n",
       "    </tr>\n",
       "  </tbody>\n",
       "</table>\n",
       "</div>"
      ],
      "text/plain": [
       "         salary_true                         \n",
       "city              上海     北京    广州    杭州    深圳\n",
       "workYear                                     \n",
       "1-3年           108.0  259.0  54.0  62.0  61.0\n",
       "10年以上            NaN    2.0   NaN   NaN   1.0\n",
       "1年以下             4.0   14.0   NaN   NaN   NaN\n",
       "3-5年            99.0  253.0  36.0  52.0  55.0\n",
       "5-10年           28.0   65.0   9.0   6.0   9.0\n",
       "不限              42.0  101.0  23.0  10.0  25.0\n",
       "应届毕业生           11.0   22.0   4.0   3.0   7.0"
      ]
     },
     "execution_count": 273,
     "metadata": {},
     "output_type": "execute_result"
    }
   ],
   "source": [
    "pd.pivot_table(g2,index=['workYear'],columns=['city'],values=['salary_true'],aggfunc=len)"
   ]
  },
  {
   "cell_type": "code",
   "execution_count": null,
   "metadata": {
    "collapsed": true
   },
   "outputs": [],
   "source": []
  },
  {
   "cell_type": "code",
   "execution_count": 269,
   "metadata": {
    "collapsed": false
   },
   "outputs": [
    {
     "data": {
      "text/html": [
       "<div>\n",
       "<table border=\"1\" class=\"dataframe\">\n",
       "  <thead>\n",
       "    <tr style=\"text-align: right;\">\n",
       "      <th></th>\n",
       "      <th>salary_true</th>\n",
       "    </tr>\n",
       "    <tr>\n",
       "      <th>city</th>\n",
       "      <th></th>\n",
       "    </tr>\n",
       "  </thead>\n",
       "  <tbody>\n",
       "    <tr>\n",
       "      <th>北京</th>\n",
       "      <td>11.470670</td>\n",
       "    </tr>\n",
       "    <tr>\n",
       "      <th>上海</th>\n",
       "      <td>10.722603</td>\n",
       "    </tr>\n",
       "    <tr>\n",
       "      <th>深圳</th>\n",
       "      <td>10.487342</td>\n",
       "    </tr>\n",
       "    <tr>\n",
       "      <th>杭州</th>\n",
       "      <td>9.834586</td>\n",
       "    </tr>\n",
       "    <tr>\n",
       "      <th>广州</th>\n",
       "      <td>7.492063</td>\n",
       "    </tr>\n",
       "  </tbody>\n",
       "</table>\n",
       "</div>"
      ],
      "text/plain": [
       "      salary_true\n",
       "city             \n",
       "北京      11.470670\n",
       "上海      10.722603\n",
       "深圳      10.487342\n",
       "杭州       9.834586\n",
       "广州       7.492063"
      ]
     },
     "execution_count": 269,
     "metadata": {},
     "output_type": "execute_result"
    }
   ],
   "source": [
    "pd.pivot_table(g2,index=['city'],values=['salary_true'],aggfunc=np.mean).sort_values(by=\"salary_true\",ascending=False)"
   ]
  },
  {
   "cell_type": "markdown",
   "metadata": {},
   "source": [
    "## 经验的影响"
   ]
  },
  {
   "cell_type": "code",
   "execution_count": 254,
   "metadata": {
    "collapsed": false
   },
   "outputs": [
    {
     "data": {
      "text/html": [
       "<div>\n",
       "<table border=\"1\" class=\"dataframe\">\n",
       "  <thead>\n",
       "    <tr style=\"text-align: right;\">\n",
       "      <th></th>\n",
       "      <th>salary_true</th>\n",
       "    </tr>\n",
       "    <tr>\n",
       "      <th>workYear</th>\n",
       "      <th></th>\n",
       "    </tr>\n",
       "  </thead>\n",
       "  <tbody>\n",
       "    <tr>\n",
       "      <th>1-3年</th>\n",
       "      <td>621</td>\n",
       "    </tr>\n",
       "    <tr>\n",
       "      <th>3-5年</th>\n",
       "      <td>542</td>\n",
       "    </tr>\n",
       "    <tr>\n",
       "      <th>不限</th>\n",
       "      <td>236</td>\n",
       "    </tr>\n",
       "    <tr>\n",
       "      <th>5-10年</th>\n",
       "      <td>123</td>\n",
       "    </tr>\n",
       "    <tr>\n",
       "      <th>应届毕业生</th>\n",
       "      <td>55</td>\n",
       "    </tr>\n",
       "    <tr>\n",
       "      <th>1年以下</th>\n",
       "      <td>21</td>\n",
       "    </tr>\n",
       "    <tr>\n",
       "      <th>10年以上</th>\n",
       "      <td>3</td>\n",
       "    </tr>\n",
       "  </tbody>\n",
       "</table>\n",
       "</div>"
      ],
      "text/plain": [
       "          salary_true\n",
       "workYear             \n",
       "1-3年              621\n",
       "3-5年              542\n",
       "不限                236\n",
       "5-10年             123\n",
       "应届毕业生              55\n",
       "1年以下               21\n",
       "10年以上               3"
      ]
     },
     "execution_count": 254,
     "metadata": {},
     "output_type": "execute_result"
    }
   ],
   "source": [
    "pd.pivot_table(df_new,index=['workYear'],values=['salary_true'],aggfunc=len).sort_values(by=\"salary_true\",ascending=False)"
   ]
  },
  {
   "cell_type": "code",
   "execution_count": 255,
   "metadata": {
    "collapsed": false
   },
   "outputs": [],
   "source": [
    "temp = pd.pivot_table(df_new,index=['workYear'],values=['salary_true'],aggfunc=np.mean)"
   ]
  },
  {
   "cell_type": "code",
   "execution_count": 256,
   "metadata": {
    "collapsed": true
   },
   "outputs": [],
   "source": [
    "temp2 = pd.pivot_table(df_new,index=['workYear'],values=['salary_true'],aggfunc=len)"
   ]
  },
  {
   "cell_type": "code",
   "execution_count": 257,
   "metadata": {
    "collapsed": false
   },
   "outputs": [],
   "source": [
    "temp2.columns=['num']"
   ]
  },
  {
   "cell_type": "code",
   "execution_count": 258,
   "metadata": {
    "collapsed": false
   },
   "outputs": [
    {
     "data": {
      "text/html": [
       "<div>\n",
       "<table border=\"1\" class=\"dataframe\">\n",
       "  <thead>\n",
       "    <tr style=\"text-align: right;\">\n",
       "      <th></th>\n",
       "      <th>salary_true</th>\n",
       "      <th>num</th>\n",
       "    </tr>\n",
       "    <tr>\n",
       "      <th>workYear</th>\n",
       "      <th></th>\n",
       "      <th></th>\n",
       "    </tr>\n",
       "  </thead>\n",
       "  <tbody>\n",
       "    <tr>\n",
       "      <th>应届毕业生</th>\n",
       "      <td>4.436364</td>\n",
       "      <td>55</td>\n",
       "    </tr>\n",
       "    <tr>\n",
       "      <th>1年以下</th>\n",
       "      <td>5.666667</td>\n",
       "      <td>21</td>\n",
       "    </tr>\n",
       "    <tr>\n",
       "      <th>不限</th>\n",
       "      <td>6.500000</td>\n",
       "      <td>236</td>\n",
       "    </tr>\n",
       "    <tr>\n",
       "      <th>1-3年</th>\n",
       "      <td>8.486312</td>\n",
       "      <td>621</td>\n",
       "    </tr>\n",
       "    <tr>\n",
       "      <th>3-5年</th>\n",
       "      <td>12.680812</td>\n",
       "      <td>542</td>\n",
       "    </tr>\n",
       "    <tr>\n",
       "      <th>5-10年</th>\n",
       "      <td>18.243902</td>\n",
       "      <td>123</td>\n",
       "    </tr>\n",
       "    <tr>\n",
       "      <th>10年以上</th>\n",
       "      <td>35.000000</td>\n",
       "      <td>3</td>\n",
       "    </tr>\n",
       "  </tbody>\n",
       "</table>\n",
       "</div>"
      ],
      "text/plain": [
       "          salary_true  num\n",
       "workYear                  \n",
       "应届毕业生        4.436364   55\n",
       "1年以下         5.666667   21\n",
       "不限           6.500000  236\n",
       "1-3年         8.486312  621\n",
       "3-5年        12.680812  542\n",
       "5-10年       18.243902  123\n",
       "10年以上       35.000000    3"
      ]
     },
     "execution_count": 258,
     "metadata": {},
     "output_type": "execute_result"
    }
   ],
   "source": [
    "pd.concat([temp,temp2],axis=1).sort_values(by=['salary_true'],ascending=True)"
   ]
  },
  {
   "cell_type": "markdown",
   "metadata": {},
   "source": [
    "## 学历的要求"
   ]
  },
  {
   "cell_type": "markdown",
   "metadata": {},
   "source": [
    "问题出现了：本科与硕士的工资差"
   ]
  },
  {
   "cell_type": "code",
   "execution_count": 266,
   "metadata": {
    "collapsed": false
   },
   "outputs": [
    {
     "data": {
      "text/html": [
       "<div>\n",
       "<table border=\"1\" class=\"dataframe\">\n",
       "  <thead>\n",
       "    <tr>\n",
       "      <th></th>\n",
       "      <th>len</th>\n",
       "      <th>mean</th>\n",
       "    </tr>\n",
       "    <tr>\n",
       "      <th></th>\n",
       "      <th>salary_true</th>\n",
       "      <th>salary_true</th>\n",
       "    </tr>\n",
       "    <tr>\n",
       "      <th>education</th>\n",
       "      <th></th>\n",
       "      <th></th>\n",
       "    </tr>\n",
       "  </thead>\n",
       "  <tbody>\n",
       "    <tr>\n",
       "      <th>不限</th>\n",
       "      <td>88</td>\n",
       "      <td>8.556818</td>\n",
       "    </tr>\n",
       "    <tr>\n",
       "      <th>博士</th>\n",
       "      <td>3</td>\n",
       "      <td>12.666667</td>\n",
       "    </tr>\n",
       "    <tr>\n",
       "      <th>大专</th>\n",
       "      <td>188</td>\n",
       "      <td>7.824468</td>\n",
       "    </tr>\n",
       "    <tr>\n",
       "      <th>本科</th>\n",
       "      <td>1222</td>\n",
       "      <td>10.697218</td>\n",
       "    </tr>\n",
       "    <tr>\n",
       "      <th>硕士</th>\n",
       "      <td>100</td>\n",
       "      <td>10.550000</td>\n",
       "    </tr>\n",
       "  </tbody>\n",
       "</table>\n",
       "</div>"
      ],
      "text/plain": [
       "                  len        mean\n",
       "          salary_true salary_true\n",
       "education                        \n",
       "不限                 88    8.556818\n",
       "博士                  3   12.666667\n",
       "大专                188    7.824468\n",
       "本科               1222   10.697218\n",
       "硕士                100   10.550000"
      ]
     },
     "execution_count": 266,
     "metadata": {},
     "output_type": "execute_result"
    }
   ],
   "source": [
    "pd.pivot_table(df_new,index=['education'],values=['salary_true'],aggfunc=[len,np.mean])"
   ]
  },
  {
   "cell_type": "code",
   "execution_count": 263,
   "metadata": {
    "collapsed": false
   },
   "outputs": [
    {
     "data": {
      "image/png": "[encoded data removed]",
      "text/plain": [
       "<matplotlib.figure.Figure at 0x6f27492080>"
      ]
     },
     "metadata": {},
     "output_type": "display_data"
    }
   ],
   "source": [
    "plt.boxplot(df_new[df_new['education']==u\"本科\"]['salary_true'].values)\n",
    "plt.show()"
   ]
  },
  {
   "cell_type": "code",
   "execution_count": 264,
   "metadata": {
    "collapsed": false
   },
   "outputs": [
    {
     "data": {
      "image/png": "[encoded data removed]",
      "text/plain": [
       "<matplotlib.figure.Figure at 0x6f27a156a0>"
      ]
     },
     "metadata": {},
     "output_type": "display_data"
    }
   ],
   "source": [
    "plt.boxplot(df_new[df_new['education']==u\"硕士\"]['salary_true'].values)\n",
    "plt.show()"
   ]
  },
  {
   "cell_type": "markdown",
   "metadata": {},
   "source": [
    "### 公司类型"
   ]
  },
  {
   "cell_type": "code",
   "execution_count": 274,
   "metadata": {
    "collapsed": false
   },
   "outputs": [
    {
     "data": {
      "text/html": [
       "<div>\n",
       "<table border=\"1\" class=\"dataframe\">\n",
       "  <thead>\n",
       "    <tr>\n",
       "      <th></th>\n",
       "      <th>len</th>\n",
       "      <th>mean</th>\n",
       "    </tr>\n",
       "    <tr>\n",
       "      <th></th>\n",
       "      <th>salary_true</th>\n",
       "      <th>salary_true</th>\n",
       "    </tr>\n",
       "    <tr>\n",
       "      <th>financeStage</th>\n",
       "      <th></th>\n",
       "      <th></th>\n",
       "    </tr>\n",
       "  </thead>\n",
       "  <tbody>\n",
       "    <tr>\n",
       "      <th>上市公司</th>\n",
       "      <td>337</td>\n",
       "      <td>10.994065</td>\n",
       "    </tr>\n",
       "    <tr>\n",
       "      <th>初创型(不需要融资)</th>\n",
       "      <td>33</td>\n",
       "      <td>7.303030</td>\n",
       "    </tr>\n",
       "    <tr>\n",
       "      <th>初创型(天使轮)</th>\n",
       "      <td>81</td>\n",
       "      <td>10.012346</td>\n",
       "    </tr>\n",
       "    <tr>\n",
       "      <th>初创型(未融资)</th>\n",
       "      <td>112</td>\n",
       "      <td>8.178571</td>\n",
       "    </tr>\n",
       "    <tr>\n",
       "      <th>成熟型(C轮)</th>\n",
       "      <td>134</td>\n",
       "      <td>10.791045</td>\n",
       "    </tr>\n",
       "    <tr>\n",
       "      <th>成熟型(D轮及以上)</th>\n",
       "      <td>166</td>\n",
       "      <td>12.349398</td>\n",
       "    </tr>\n",
       "    <tr>\n",
       "      <th>成熟型(不需要融资)</th>\n",
       "      <td>113</td>\n",
       "      <td>10.362832</td>\n",
       "    </tr>\n",
       "    <tr>\n",
       "      <th>成长型(A轮)</th>\n",
       "      <td>157</td>\n",
       "      <td>10.719745</td>\n",
       "    </tr>\n",
       "    <tr>\n",
       "      <th>成长型(B轮)</th>\n",
       "      <td>173</td>\n",
       "      <td>11.323699</td>\n",
       "    </tr>\n",
       "    <tr>\n",
       "      <th>成长型(不需要融资)</th>\n",
       "      <td>119</td>\n",
       "      <td>10.680672</td>\n",
       "    </tr>\n",
       "  </tbody>\n",
       "</table>\n",
       "</div>"
      ],
      "text/plain": [
       "                     len        mean\n",
       "             salary_true salary_true\n",
       "financeStage                        \n",
       "上市公司                 337   10.994065\n",
       "初创型(不需要融资)            33    7.303030\n",
       "初创型(天使轮)              81   10.012346\n",
       "初创型(未融资)             112    8.178571\n",
       "成熟型(C轮)              134   10.791045\n",
       "成熟型(D轮及以上)           166   12.349398\n",
       "成熟型(不需要融资)           113   10.362832\n",
       "成长型(A轮)              157   10.719745\n",
       "成长型(B轮)              173   11.323699\n",
       "成长型(不需要融资)           119   10.680672"
      ]
     },
     "execution_count": 274,
     "metadata": {},
     "output_type": "execute_result"
    }
   ],
   "source": [
    "pd.pivot_table(g2,index=['financeStage'],values=['salary_true'],aggfunc=[len,np.mean])"
   ]
  },
  {
   "cell_type": "code",
   "execution_count": null,
   "metadata": {
    "collapsed": true
   },
   "outputs": [],
   "source": []
  }
 ],
 "metadata": {
  "kernelspec": {
   "display_name": "Python [Root]",
   "language": "python",
   "name": "Python [Root]"
  },
  "language_info": {
   "codemirror_mode": {
    "name": "ipython",
    "version": 3
   },
   "file_extension": ".py",
   "mimetype": "text/x-python",
   "name": "python",
   "nbconvert_exporter": "python",
   "pygments_lexer": "ipython3",
   "version": "3.5.2"
  }
 },
 "nbformat": 4,
 "nbformat_minor": 0
}
