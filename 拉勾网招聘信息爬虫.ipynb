{
 "cells": [
  {
   "cell_type": "markdown",
   "metadata": {},
   "source": [
    "# 拉勾网招聘信息爬取"
   ]
  },
  {
   "cell_type": "markdown",
   "metadata": {},
   "source": [
    "### 1、导包"
   ]
  },
  {
   "cell_type": "code",
   "execution_count": 1,
   "metadata": {
    "collapsed": true
   },
   "outputs": [],
   "source": [
    "# -*- coding:utf-8 -*-\n",
    "import re,json,math,datetime\n",
    "from urllib import request\n",
    "import pandas as pd"
   ]
  },
  {
   "cell_type": "markdown",
   "metadata": {},
   "source": [
    "### 2、字符串处理函数"
   ]
  },
  {
   "cell_type": "code",
   "execution_count": 2,
   "metadata": {
    "collapsed": true
   },
   "outputs": [],
   "source": [
    "def ProcessingString(string):\n",
    "    string = string.encode('utf-8')\n",
    "    string = str(string).replace(r'\\x','%').replace(r\"'\",\"\")\n",
    "    string = re.sub('^b','',string)\n",
    "    return string"
   ]
  },
  {
   "cell_type": "markdown",
   "metadata": {},
   "source": [
    "### 3、计算搜索内容的数量与页数\n",
    "* 每页默认显示数量为15项\n",
    "* 数据使用Ajax，其json格式经常改动"
   ]
  },
  {
   "cell_type": "code",
   "execution_count": 3,
   "metadata": {
    "collapsed": true
   },
   "outputs": [],
   "source": [
    "def SearchPageCount(position, city):\n",
    "    positionTemp = ProcessingString(position)\n",
    "    cityTemp = ProcessingString(city)\n",
    "    i = 0\n",
    "    url = 'http://www.lagou.com/jobs/positionAjax.json?city='+cityTemp+'&needAddtionalResult=false&first=false'+'&kd='+positionTemp+'&pn='+str(i+1)\n",
    "    with request.urlopen(url) as f:\n",
    "        data = f.read()\n",
    "        totalCount = int(json.loads(str(data,encoding='utf-8',errors='ignore'))[\"content\"]['positionResult'][\"totalCount\"])\n",
    "        count = math.ceil(totalCount/15) # 向下取整\n",
    "        print('本次搜索到%d个职位'%totalCount)\n",
    "        print('本次搜索共%d页'%count)\n",
    "    return count"
   ]
  },
  {
   "cell_type": "markdown",
   "metadata": {},
   "source": [
    "### 4、爬取函数\n",
    "* 抓取内容\n",
    "* 数据存储"
   ]
  },
  {
   "cell_type": "code",
   "execution_count": 4,
   "metadata": {
    "collapsed": false
   },
   "outputs": [],
   "source": [
    "def LaGouSpiderWithKeyWord(position, city):\n",
    "    \n",
    "    positionTemp = ProcessingString(position)\n",
    "    cityTemp = ProcessingString(city)\n",
    "    # 获取总共页数\n",
    "    pageCount = SearchPageCount(positionTemp,cityTemp)\n",
    "    n=1\n",
    "    rdata=pd.DataFrame()\n",
    "    # 遍历每一页\n",
    "    for i in range(0,pageCount):           \n",
    "        # url生成，并获取内容\n",
    "        url = 'http://www.lagou.com/jobs/positionAjax.json?city='+cityTemp+'&needAddtionalResult=false&first=false'+'&kd='+positionTemp+'&pn='+str(i+1)\n",
    "        data = request.urlopen(url).read()\n",
    "    \n",
    "        # 读取Json数据/解析并筛选\n",
    "        jsondata = json.loads(str(data,encoding='utf-8',errors='ignore'))['content']['positionResult']['result']\n",
    "        # 遍历当页的所用position职位\n",
    "        for j in range(0,len(jsondata)):\n",
    "            # 打印\n",
    "            # print(str(n)+\" \"+jsondata[j]['positionName']+\" \"+jsondata[j]['companyShortName']+\" \"+jsondata[j]['salary'])\n",
    "            # n = n+1\n",
    "                \n",
    "            #将每一行数据做成Series，之后再合并\n",
    "            if j == 0:\n",
    "                rdata=pd.DataFrame(pd.Series(data=jsondata[j])).T\n",
    "            else:\n",
    "                rdata=pd.concat([rdata,pd.DataFrame(pd.Series(data=jsondata[j])).T])\n",
    "                    \n",
    "        #构造totaldata，是所有页面的集合，rdata是这一个页面的集合\n",
    "        if i == 0:\n",
    "             totaldata=rdata\n",
    "        else:\n",
    "             totaldata=pd.concat([totaldata,rdata])\n",
    "                            \n",
    "    #获取爬取结束时间\n",
    "    now = datetime.datetime.now().strftime('%m-%d')\n",
    "     \n",
    "    #开始写入数据库\n",
    "    totaldata.to_excel(position+'_'+city+'_'+now+'.xls',sheet_name='sheet1')"
   ]
  },
  {
   "cell_type": "code",
   "execution_count": null,
   "metadata": {
    "collapsed": false
   },
   "outputs": [],
   "source": [
    "now = datetime.datetime.now()\n",
    "print(str(now))\n",
    "now.strftime('%Y-%m-%d_%H:%M')\n",
    "now.strftime('%y-%m-%d_%H:%M')"
   ]
  },
  {
   "cell_type": "markdown",
   "metadata": {},
   "source": [
    "### 4、执行"
   ]
  },
  {
   "cell_type": "markdown",
   "metadata": {},
   "source": [
    "获取\"数据分析\",\"深圳\"所有的招聘信息"
   ]
  },
  {
   "cell_type": "code",
   "execution_count": null,
   "metadata": {
    "collapsed": false
   },
   "outputs": [],
   "source": [
    "LaGouSpiderWithKeyWord(u\"数据分析\",u\"深圳\")"
   ]
  },
  {
   "cell_type": "code",
   "execution_count": null,
   "metadata": {
    "collapsed": false
   },
   "outputs": [],
   "source": [
    "LaGouSpiderWithKeyWord(u\"数据分析\",u\"全国\")"
   ]
  },
  {
   "cell_type": "code",
   "execution_count": null,
   "metadata": {
    "collapsed": false
   },
   "outputs": [],
   "source": [
    "LaGouSpiderWithKeyWord(u\"数据挖掘\",u\"全国\")"
   ]
  },
  {
   "cell_type": "code",
   "execution_count": 6,
   "metadata": {
    "collapsed": false
   },
   "outputs": [
    {
     "name": "stdout",
     "output_type": "stream",
     "text": [
      "本次搜索到6821个职位\n",
      "本次搜索共455页\n"
     ]
    }
   ],
   "source": [
    "LaGouSpiderWithKeyWord(u\"数据\",u\"全国\")"
   ]
  },
  {
   "cell_type": "markdown",
   "metadata": {},
   "source": [
    "获取\"数据分析\",\"全国\"招聘数量"
   ]
  },
  {
   "cell_type": "code",
   "execution_count": null,
   "metadata": {
    "collapsed": false
   },
   "outputs": [],
   "source": [
    "SearchPageCount(u\"数据分析\",u\"全国\")"
   ]
  },
  {
   "cell_type": "code",
   "execution_count": 5,
   "metadata": {
    "collapsed": false
   },
   "outputs": [
    {
     "name": "stdout",
     "output_type": "stream",
     "text": [
      "本次搜索到6821个职位\n",
      "本次搜索共455页\n"
     ]
    },
    {
     "data": {
      "text/plain": [
       "455"
      ]
     },
     "execution_count": 5,
     "metadata": {},
     "output_type": "execute_result"
    }
   ],
   "source": [
    "SearchPageCount(u\"数据\",u\"全国\")"
   ]
  },
  {
   "cell_type": "code",
   "execution_count": null,
   "metadata": {
    "collapsed": true
   },
   "outputs": [],
   "source": []
  },
  {
   "cell_type": "code",
   "execution_count": null,
   "metadata": {
    "collapsed": true
   },
   "outputs": [],
   "source": []
  },
  {
   "cell_type": "markdown",
   "metadata": {},
   "source": [
    "---"
   ]
  },
  {
   "cell_type": "markdown",
   "metadata": {},
   "source": [
    "#### 代码集合，勿动"
   ]
  },
  {
   "cell_type": "markdown",
   "metadata": {
    "collapsed": true
   },
   "source": [
    "import re,json\n",
    "from urllib import request\n",
    "import pandas as pd\n",
    "import math\n",
    "\n",
    "#### 处理字符串的函数\n",
    "def ProcessingString(string):\n",
    "    string = string.encode('utf-8')\n",
    "    string = str(string).replace(r'\\x','%').replace(r\"'\",\"\")\n",
    "    string = re.sub('^b','',string)\n",
    "    return string\n",
    "\n",
    "#### 计算数量，页数\n",
    "def SearchPageCount(position, city):\n",
    "    i = 1\n",
    "    positionTemp = ProcessingString(position)\n",
    "    cityTemp = ProcessingString(city)\n",
    "    url = 'http://www.lagou.com/jobs/positionAjax.json?city='+cityTemp+'&needAddtionalResult=false&first=false'+'&kd='+positionTemp+'&pn='+str(i+1)\n",
    "    with request.urlopen(url) as f:\n",
    "        data = f.read()\n",
    "        totalCount = int(json.loads(str(data,encoding='utf-8',errors='ignore'))[\"content\"]['positionResult'][\"totalCount\"])\n",
    "        count = math.ceil(totalCount/15) # 向下取整\n",
    "        print('本次搜索到%d个职位'%totalCount)\n",
    "        print('本次搜索共%d页'%count)\n",
    "    return count\n",
    "\n",
    "#### 爬取&存储\n",
    "def LaGouSpiderWithKeyWord(position, city):\n",
    "    positionTemp = ProcessingString(position)\n",
    "    cityTemp = ProcessingString(city)\n",
    "    # 获取总共页数\n",
    "    pageCount = SearchPageCount(positionTemp,cityTemp)\n",
    "    n=1\n",
    "    rdata=pd.DataFrame()\n",
    "    # 遍历每一页\n",
    "    for i in range(0,pageCount):           \n",
    "        # url生成，并获取内容\n",
    "        url = 'http://www.lagou.com/jobs/positionAjax.json?city='+cityTemp+'&needAddtionalResult=false&first=false'+'&kd='+positionTemp+'&pn='+str(i+1)\n",
    "        data = request.urlopen(url).read()\n",
    "    \n",
    "        # 读取Json数据/解析并筛选\n",
    "        jsondata = json.loads(str(data,encoding='utf-8',errors='ignore'))['content']['positionResult']['result']\n",
    "        # 遍历当页的所用position职位\n",
    "        for j in range(0,len(jsondata)):\n",
    "            print(str(n)+\" \"+jsondata[j]['positionName']+\" \"\n",
    "                    +jsondata[j]['companyShortName']+\" \"\n",
    "                    +jsondata[j]['salary'])\n",
    "            n = n+1\n",
    "                \n",
    "            #将每一行数据做成Series，之后再合并\n",
    "            if j == 0:\n",
    "                rdata=pd.DataFrame(pd.Series(data=jsondata[j]['position'])).T\n",
    "            else:\n",
    "                rdata=pd.concat([rdata,pd.DataFrame(pd.Series(data=jsondata[j]['position'])).T])\n",
    "                    \n",
    "        #构造totaldata，是所有页面的集合，rdata是这一个页面的集合\n",
    "        if i == 0:\n",
    "             totaldata=rdata\n",
    "        else:\n",
    "             totaldata=pd.concat([totaldata,rdata])\n",
    "                            \n",
    "                    \n",
    "    # 开始写入数据库\n",
    "    totaldata.to_excel('lagou.xls',sheet_name='sheet1')"
   ]
  },
  {
   "cell_type": "markdown",
   "metadata": {},
   "source": [
    "---"
   ]
  }
 ],
 "metadata": {
  "anaconda-cloud": {},
  "kernelspec": {
   "display_name": "Python [Root]",
   "language": "python",
   "name": "Python [Root]"
  },
  "language_info": {
   "codemirror_mode": {
    "name": "ipython",
    "version": 3
   },
   "file_extension": ".py",
   "mimetype": "text/x-python",
   "name": "python",
   "nbconvert_exporter": "python",
   "pygments_lexer": "ipython3",
   "version": "3.5.2"
  }
 },
 "nbformat": 4,
 "nbformat_minor": 0
}
